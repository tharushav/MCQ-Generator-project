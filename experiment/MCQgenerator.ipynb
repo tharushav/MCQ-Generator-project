{
 "cells": [
  {
   "cell_type": "code",
   "execution_count": 1,
   "id": "f8e6340e",
   "metadata": {},
   "outputs": [],
   "source": [
    "import os\n",
    "import json\n",
    "import pandas as pd\n",
    "import traceback"
   ]
  },
  {
   "cell_type": "code",
   "execution_count": 2,
   "id": "9c21975a",
   "metadata": {},
   "outputs": [],
   "source": [
    "from langchain_huggingface import HuggingFaceEndpoint"
   ]
  },
  {
   "cell_type": "code",
   "execution_count": 3,
   "id": "c72488b9",
   "metadata": {},
   "outputs": [
    {
     "data": {
      "text/plain": [
       "True"
      ]
     },
     "execution_count": 3,
     "metadata": {},
     "output_type": "execute_result"
    }
   ],
   "source": [
    "from dotenv import load_dotenv\n",
    "load_dotenv()"
   ]
  },
  {
   "cell_type": "code",
   "execution_count": 4,
   "id": "5d44451d",
   "metadata": {},
   "outputs": [],
   "source": [
    "KEY = os.getenv(\"HUGGINGFACEHUB_API_TOKEN\")"
   ]
  },
  {
   "cell_type": "code",
   "execution_count": 6,
   "id": "bdba6b83",
   "metadata": {},
   "outputs": [
    {
     "name": "stderr",
     "output_type": "stream",
     "text": [
      "/opt/anaconda3/envs/env/lib/python3.10/site-packages/tqdm/auto.py:21: TqdmWarning: IProgress not found. Please update jupyter and ipywidgets. See https://ipywidgets.readthedocs.io/en/stable/user_install.html\n",
      "  from .autonotebook import tqdm as notebook_tqdm\n"
     ]
    }
   ],
   "source": [
    "llm = HuggingFaceEndpoint(\n",
    "        repo_id=\"meta-llama/Llama-3.1-8B-Instruct\",\n",
    "        temperature=0.5,\n",
    "        huggingfacehub_api_token=KEY\n",
    ")"
   ]
  },
  {
   "cell_type": "code",
   "execution_count": 8,
   "id": "751cdd5c",
   "metadata": {},
   "outputs": [],
   "source": [
    "#llm"
   ]
  },
  {
   "cell_type": "code",
   "execution_count": 9,
   "id": "261945b3",
   "metadata": {},
   "outputs": [],
   "source": [
    "from langchain.chains import LLMChain, SequentialChain\n",
    "from langchain.prompts import PromptTemplate\n",
    "from langchain_huggingface import HuggingFaceEndpoint\n",
    "import PyPDF2"
   ]
  },
  {
   "cell_type": "code",
   "execution_count": 10,
   "id": "cc5befef",
   "metadata": {},
   "outputs": [],
   "source": [
    "RESPONSE_JSON = {\n",
    "    \"1\": {\n",
    "        \"mcq\": \"multiple choice question\",\n",
    "        \"options\": {\n",
    "            \"a\": \"choice here\",\n",
    "            \"b\": \"choice here\",\n",
    "            \"c\": \"choice here\",\n",
    "            \"d\": \"choice here\",\n",
    "        },\n",
    "        \"correct\": \"correct answer\",\n",
    "    },\n",
    "    \"2\": {\n",
    "        \"mcq\": \"multiple choice question\",\n",
    "        \"options\": {\n",
    "            \"a\": \"choice here\",\n",
    "            \"b\": \"choice here\",\n",
    "            \"c\": \"choice here\",\n",
    "            \"d\": \"choice here\",\n",
    "        },\n",
    "        \"correct\": \"correct answer\",\n",
    "    },\n",
    "    \"3\": {\n",
    "        \"mcq\": \"multiple choice question\",\n",
    "        \"options\": {\n",
    "            \"a\": \"choice here\",\n",
    "            \"b\": \"choice here\",\n",
    "            \"c\": \"choice here\",\n",
    "            \"d\": \"choice here\",\n",
    "        },\n",
    "        \"correct\": \"correct answer\",\n",
    "    },\n",
    "}\n"
   ]
  },
  {
   "cell_type": "code",
   "execution_count": 11,
   "id": "f0c92ebf",
   "metadata": {},
   "outputs": [],
   "source": [
    "TEMPLATE=\"\"\"\n",
    "Text:{text}\n",
    "You are an expert MCQ maker. Given the above text, it is your job to \\\n",
    "create a quiz  of {number} multiple choice questions for {subject} students in {tone} tone. \n",
    "Make sure the questions are not repeated and check all the questions to be conforming the text as well.\n",
    "Make sure to format your response like  RESPONSE_JSON below  and use it as a guide. \\\n",
    "Ensure to make {number} MCQs\n",
    "### RESPONSE_JSON\n",
    "{response_json}\n",
    "\n",
    "\"\"\""
   ]
  },
  {
   "cell_type": "code",
   "execution_count": 12,
   "id": "9f0e477e",
   "metadata": {},
   "outputs": [],
   "source": [
    "quiz_generation_prompt = PromptTemplate(\n",
    "    input_variables=[\"text\", \"number\", \"subject\", \"tone\", \"response_json\"],\n",
    "    template=TEMPLATE\n",
    "    )\n"
   ]
  },
  {
   "cell_type": "code",
   "execution_count": 13,
   "id": "53467867",
   "metadata": {},
   "outputs": [
    {
     "name": "stderr",
     "output_type": "stream",
     "text": [
      "/var/folders/h3/dshrqqgs1xv628f0c7bj8mj80000gn/T/ipykernel_29727/2669661367.py:1: LangChainDeprecationWarning: The class `LLMChain` was deprecated in LangChain 0.1.17 and will be removed in 1.0. Use :meth:`~RunnableSequence, e.g., `prompt | llm`` instead.\n",
      "  quiz_chain=LLMChain(llm=llm, prompt=quiz_generation_prompt, output_key=\"quiz\", verbose=True)\n"
     ]
    }
   ],
   "source": [
    "quiz_chain=LLMChain(llm=llm, prompt=quiz_generation_prompt, output_key=\"quiz\", verbose=True)"
   ]
  },
  {
   "cell_type": "code",
   "execution_count": 14,
   "id": "43e60221",
   "metadata": {},
   "outputs": [],
   "source": [
    "TEMPLATE2=\"\"\"\n",
    "You are an expert english grammarian and writer. Given a Multiple Choice Quiz for {subject} students.\\\n",
    "You need to evaluate the complexity of the question and give a complete analysis of the quiz. Only use at max 50 words for complexity analysis. \n",
    "if the quiz is not at per with the cognitive and analytical abilities of the students,\\\n",
    "update the quiz questions which needs to be changed and change the tone such that it perfectly fits the student abilities\n",
    "Quiz_MCQs:\n",
    "{quiz}\n",
    "\n",
    "Check from an expert English Writer of the above quiz:\n",
    "\"\"\""
   ]
  },
  {
   "cell_type": "code",
   "execution_count": 15,
   "id": "5540f271",
   "metadata": {},
   "outputs": [],
   "source": [
    "quiz_evaluation_prompt=PromptTemplate(input_variables=[\"subject\", \"quiz\"], template=TEMPLATE)"
   ]
  },
  {
   "cell_type": "code",
   "execution_count": 16,
   "id": "6457f9ce",
   "metadata": {},
   "outputs": [],
   "source": [
    "review_chain=LLMChain(llm=llm, prompt=quiz_evaluation_prompt, output_key=\"review\", verbose=True)"
   ]
  },
  {
   "cell_type": "code",
   "execution_count": 17,
   "id": "b773662f",
   "metadata": {},
   "outputs": [],
   "source": [
    "generate_evaluate_chain=SequentialChain(chains=[quiz_chain, review_chain], input_variables=[\"text\", \"number\", \"subject\", \"tone\", \"response_json\"],\n",
    "                                        output_variables=[\"quiz\", \"review\"], verbose=True)"
   ]
  },
  {
   "cell_type": "code",
   "execution_count": 18,
   "id": "28bf32ad",
   "metadata": {},
   "outputs": [],
   "source": [
    "file_path=\"/Users/tharushavihanga/Developer/MCQ-Generator-project/data.txt\""
   ]
  },
  {
   "cell_type": "code",
   "execution_count": 19,
   "id": "a8496346",
   "metadata": {},
   "outputs": [],
   "source": [
    "with open(file_path, 'r') as file:\n",
    "    TEXT = file.read()"
   ]
  },
  {
   "cell_type": "code",
   "execution_count": 20,
   "id": "d6c10d6b",
   "metadata": {},
   "outputs": [
    {
     "name": "stdout",
     "output_type": "stream",
     "text": [
      "Machine learning (ML) is a branch of artificial intelligence (AI) focused on enabling computers and machines to imitate the way that humans learn, to perform tasks autonomously, and to improve their performance and accuracy through experience and exposure to more data.\n",
      "\n",
      "UC Berkeley breaks out the learning system of a machine learning algorithm into three main parts.\n",
      "\n",
      "A Decision Process: In general, machine learning algorithms are used to make a prediction or classification. Based on some input data, which can be labeled or unlabeled, your algorithm will produce an estimate about a pattern in the data.\n",
      "\n",
      "An Error Function: An error function evaluates the prediction of the model. If there are known examples, an error function can make a comparison to assess the accuracy of the model.\n",
      "\n",
      "A Model Optimization Process: If the model can fit better to the data points in the training set, then weights are adjusted to reduce the discrepancy between the known example and the model estimate. The algorithm will repeat this iterative “evaluate and optimize” process, updating weights autonomously until a threshold of accuracy has been met.\n",
      "Industry newsletter\n",
      "\n",
      "The latest AI trends, brought to you by experts\n",
      "Get curated insights on the most important—and intriguing—AI news. Subscribe to our weekly Think newsletter. See the IBM Privacy Statement.\n",
      "\n",
      "Machine learning versus deep learning versus neural networks\n",
      "Since deep learning and machine learning tend to be used interchangeably, it’s worth noting the nuances between the two. Machine learning, deep learning, and neural networks are all sub-fields of artificial intelligence. However, neural networks is actually a sub-field of machine learning, and deep learning is a sub-field of neural networks.\n",
      "\n",
      "The way in which deep learning and machine learning differ is in how each algorithm learns. \"Deep\" machine learning can use labeled datasets, also known as supervised learning, to inform its algorithm, but it doesn’t necessarily require a labeled dataset. The deep learning process can ingest unstructured data in its raw form (e.g., text or images), and it can automatically determine the set of features which distinguish different categories of data from one another. This eliminates some of the human intervention required and enables the use of large amounts of data. You can think of deep learning as \"scalable machine learning\" as Lex Fridman notes in this MIT lecture1.\n",
      "\n",
      "Classical, or \"non-deep,\" machine learning is more dependent on human intervention to learn. Human experts determine the set of features to understand the differences between data inputs, usually requiring more structured data to learn.\n",
      "\n",
      "Neural networks, or artificial neural networks (ANNs), are comprised of node layers, containing an input layer, one or more hidden layers, and an output layer. Each node, or artificial neuron, connects to another and has an associated weight and threshold. If the output of any individual node is above the specified threshold value, that node is activated, sending data to the next layer of the network. Otherwise, no data is passed along to the next layer of the network by that node. The “deep” in deep learning is just referring to the number of layers in a neural network. A neural network that consists of more than three layers, which would be inclusive of the input and the output can be considered a deep learning algorithm or a deep neural network. A neural network that only has three layers is just a basic neural network.\n",
      "\n",
      "Deep learning and neural networks are credited with accelerating progress in areas such as computer vision, natural language processing (NLP), and speech recognition.\n",
      "\n",
      "See the blog post “AI vs. Machine Learning vs. Deep Learning vs. Neural Networks: What’s the Difference?” for a closer look at how the different concepts relate.\n",
      "\n",
      "Mixture of Experts | 20 June, episode 60\n",
      "\n",
      "Episode 60: Impact of AI on jobs, Scale AI fallout and chatbot conspiracies\n",
      "Decoding AI: Weekly News Roundup\n",
      "Join our world-class panel of engineers, researchers, product leaders and more as they cut through the AI noise to bring you the latest in AI news and insights.\n",
      "\n",
      "Watch the latest podcast episodes \n",
      "Machine learning methods\n",
      "Machine learning models fall into three primary categories.\n",
      "\n",
      "Supervised learning\n",
      "Supervised learning, also known as supervised machine learning, is defined by its use of labeled datasets to train algorithms to classify data or predict outcomes accurately. As input data is fed into the model, the model adjusts its weights until it has been fitted appropriately. This occurs as part of the cross validation process to ensure that the model avoids overfitting or underfitting. Supervised learning helps organizations solve a variety of real-world problems at scale, such as classifying spam in a separate folder from your inbox. Some methods used in supervised learning include neural networks, Naïve Bayes, linear regression, logistic regression, random forest, and support vector machine (SVM).\n",
      "\n",
      "Unsupervised learning\n",
      "Unsupervised learning, also known as unsupervised machine learning, uses machine learning algorithms to analyze and cluster unlabeled datasets (subsets called clusters). These algorithms discover hidden patterns or data groupings without the need for human intervention.\n",
      "\n",
      "Unsupervised learning’s ability to discover similarities and differences in information make it ideal for exploratory data analysis, cross-selling strategies, customer segmentation, and image and pattern recognition. It’s also used to reduce the number of features in a model through the process of dimensionality reduction. Principal component analysis (PCA) and singular value decomposition (SVD) are two common approaches for this. Other algorithms used in unsupervised learning include neural networks, k-means clustering, and probabilistic clustering methods.\n",
      "\n",
      "Semi-supervised learning \n",
      "Semi-supervised learning offers a happy medium between supervised and unsupervised learning. During training, it uses a smaller labeled data set to guide classification and feature extraction from a larger, unlabeled data set. Semi-supervised learning can solve the problem of not having enough labeled data for a supervised learning algorithm. It also helps if it’s too costly to label enough data.\n",
      "\n",
      "For a deep dive into the differences between these approaches, check out \"Supervised vs. Unsupervised Learning: What's the Difference?\"\n",
      "\n",
      "Reinforcement learning\n",
      "Reinforcement learning is a machine learning model that is similar to supervised learning, but the algorithm isn’t trained using sample data. This model learns as it goes by using trial and error. A sequence of successful outcomes will be reinforced to develop the best recommendation or policy for a given problem.\n",
      "\n",
      "The IBM Watson® system that won the Jeopardy! challenge in 2011 is a good example. The system used reinforcement learning to learn when to attempt an answer (or question, as it were), which square to select on the board, and how much to wager, especially on daily doubles.\n",
      "\n",
      "Common machine learning algorithms\n",
      "A number of machine learning algorithms are commonly used. These include:\n",
      "\n",
      "Neural networks\n",
      "Linear regression\n",
      "Logistic regression\n",
      "Clustering\n",
      "Decision trees\n",
      "Random forests\n",
      "Neural networks\n",
      "Neural networks simulate the way the human brain works, with a huge number of linked processing nodes. Neural networks are good at recognizing patterns and play an important role in applications including natural language translation, image recognition, speech recognition, and image creation.\n",
      "\n",
      "Linear regression\n",
      "This algorithm is used to predict numerical values, based on a linear relationship between different values. For example, the technique could be used to predict house prices based on historical data for the area.\n",
      "\n",
      "Logistic regression\n",
      "This supervised learning algorithm makes predictions for categorical response variables, such as “yes/no” answers to questions. It can be used for applications such as classifying spam and quality control on a production line.\n",
      "\n",
      "Clustering\n",
      "Using unsupervised learning, clustering algorithms can identify patterns in data so that it can be grouped. Computers can help data scientists by identifying differences between data items that humans have overlooked.\n",
      "\n",
      "Decision trees\n",
      "Decision trees can be used for both predicting numerical values (regression) and classifying data into categories. Decision trees use a branching sequence of linked decisions that can be represented with a tree diagram. One of the advantages of decision trees is that they are easy to validate and audit, unlike the black box of the neural network.\n",
      "\n",
      "Random forests\n",
      "In a random forest, the machine learning algorithm predicts a value or category by combining the results from a number of decision trees.\n"
     ]
    }
   ],
   "source": [
    "print(TEXT)"
   ]
  },
  {
   "cell_type": "code",
   "execution_count": 21,
   "id": "2f25d369",
   "metadata": {},
   "outputs": [
    {
     "data": {
      "text/plain": [
       "'{\"1\": {\"mcq\": \"multiple choice question\", \"options\": {\"a\": \"choice here\", \"b\": \"choice here\", \"c\": \"choice here\", \"d\": \"choice here\"}, \"correct\": \"correct answer\"}, \"2\": {\"mcq\": \"multiple choice question\", \"options\": {\"a\": \"choice here\", \"b\": \"choice here\", \"c\": \"choice here\", \"d\": \"choice here\"}, \"correct\": \"correct answer\"}, \"3\": {\"mcq\": \"multiple choice question\", \"options\": {\"a\": \"choice here\", \"b\": \"choice here\", \"c\": \"choice here\", \"d\": \"choice here\"}, \"correct\": \"correct answer\"}}'"
      ]
     },
     "execution_count": 21,
     "metadata": {},
     "output_type": "execute_result"
    }
   ],
   "source": [
    "# Serialize the Python dictionary into a JSON-formatted string\n",
    "json.dumps(RESPONSE_JSON)"
   ]
  },
  {
   "cell_type": "code",
   "execution_count": 22,
   "id": "c2ff7284",
   "metadata": {},
   "outputs": [],
   "source": [
    "NUMBER=5 \n",
    "SUBJECT=\"biology\"\n",
    "TONE=\"simple\"\n"
   ]
  },
  {
   "cell_type": "code",
   "execution_count": 23,
   "id": "52a56b46",
   "metadata": {},
   "outputs": [
    {
     "name": "stderr",
     "output_type": "stream",
     "text": [
      "/var/folders/h3/dshrqqgs1xv628f0c7bj8mj80000gn/T/ipykernel_29727/3120652783.py:1: LangChainDeprecationWarning: The method `Chain.__call__` was deprecated in langchain 0.1.0 and will be removed in 1.0. Use :meth:`~invoke` instead.\n",
      "  response = generate_evaluate_chain(\n"
     ]
    },
    {
     "name": "stdout",
     "output_type": "stream",
     "text": [
      "\n",
      "\n",
      "\u001b[1m> Entering new SequentialChain chain...\u001b[0m\n",
      "\n",
      "\n",
      "\u001b[1m> Entering new LLMChain chain...\u001b[0m\n",
      "Prompt after formatting:\n",
      "\u001b[32;1m\u001b[1;3m\n",
      "Text:Machine learning (ML) is a branch of artificial intelligence (AI) focused on enabling computers and machines to imitate the way that humans learn, to perform tasks autonomously, and to improve their performance and accuracy through experience and exposure to more data.\n",
      "\n",
      "UC Berkeley breaks out the learning system of a machine learning algorithm into three main parts.\n",
      "\n",
      "A Decision Process: In general, machine learning algorithms are used to make a prediction or classification. Based on some input data, which can be labeled or unlabeled, your algorithm will produce an estimate about a pattern in the data.\n",
      "\n",
      "An Error Function: An error function evaluates the prediction of the model. If there are known examples, an error function can make a comparison to assess the accuracy of the model.\n",
      "\n",
      "A Model Optimization Process: If the model can fit better to the data points in the training set, then weights are adjusted to reduce the discrepancy between the known example and the model estimate. The algorithm will repeat this iterative “evaluate and optimize” process, updating weights autonomously until a threshold of accuracy has been met.\n",
      "Industry newsletter\n",
      "\n",
      "The latest AI trends, brought to you by experts\n",
      "Get curated insights on the most important—and intriguing—AI news. Subscribe to our weekly Think newsletter. See the IBM Privacy Statement.\n",
      "\n",
      "Machine learning versus deep learning versus neural networks\n",
      "Since deep learning and machine learning tend to be used interchangeably, it’s worth noting the nuances between the two. Machine learning, deep learning, and neural networks are all sub-fields of artificial intelligence. However, neural networks is actually a sub-field of machine learning, and deep learning is a sub-field of neural networks.\n",
      "\n",
      "The way in which deep learning and machine learning differ is in how each algorithm learns. \"Deep\" machine learning can use labeled datasets, also known as supervised learning, to inform its algorithm, but it doesn’t necessarily require a labeled dataset. The deep learning process can ingest unstructured data in its raw form (e.g., text or images), and it can automatically determine the set of features which distinguish different categories of data from one another. This eliminates some of the human intervention required and enables the use of large amounts of data. You can think of deep learning as \"scalable machine learning\" as Lex Fridman notes in this MIT lecture1.\n",
      "\n",
      "Classical, or \"non-deep,\" machine learning is more dependent on human intervention to learn. Human experts determine the set of features to understand the differences between data inputs, usually requiring more structured data to learn.\n",
      "\n",
      "Neural networks, or artificial neural networks (ANNs), are comprised of node layers, containing an input layer, one or more hidden layers, and an output layer. Each node, or artificial neuron, connects to another and has an associated weight and threshold. If the output of any individual node is above the specified threshold value, that node is activated, sending data to the next layer of the network. Otherwise, no data is passed along to the next layer of the network by that node. The “deep” in deep learning is just referring to the number of layers in a neural network. A neural network that consists of more than three layers, which would be inclusive of the input and the output can be considered a deep learning algorithm or a deep neural network. A neural network that only has three layers is just a basic neural network.\n",
      "\n",
      "Deep learning and neural networks are credited with accelerating progress in areas such as computer vision, natural language processing (NLP), and speech recognition.\n",
      "\n",
      "See the blog post “AI vs. Machine Learning vs. Deep Learning vs. Neural Networks: What’s the Difference?” for a closer look at how the different concepts relate.\n",
      "\n",
      "Mixture of Experts | 20 June, episode 60\n",
      "\n",
      "Episode 60: Impact of AI on jobs, Scale AI fallout and chatbot conspiracies\n",
      "Decoding AI: Weekly News Roundup\n",
      "Join our world-class panel of engineers, researchers, product leaders and more as they cut through the AI noise to bring you the latest in AI news and insights.\n",
      "\n",
      "Watch the latest podcast episodes \n",
      "Machine learning methods\n",
      "Machine learning models fall into three primary categories.\n",
      "\n",
      "Supervised learning\n",
      "Supervised learning, also known as supervised machine learning, is defined by its use of labeled datasets to train algorithms to classify data or predict outcomes accurately. As input data is fed into the model, the model adjusts its weights until it has been fitted appropriately. This occurs as part of the cross validation process to ensure that the model avoids overfitting or underfitting. Supervised learning helps organizations solve a variety of real-world problems at scale, such as classifying spam in a separate folder from your inbox. Some methods used in supervised learning include neural networks, Naïve Bayes, linear regression, logistic regression, random forest, and support vector machine (SVM).\n",
      "\n",
      "Unsupervised learning\n",
      "Unsupervised learning, also known as unsupervised machine learning, uses machine learning algorithms to analyze and cluster unlabeled datasets (subsets called clusters). These algorithms discover hidden patterns or data groupings without the need for human intervention.\n",
      "\n",
      "Unsupervised learning’s ability to discover similarities and differences in information make it ideal for exploratory data analysis, cross-selling strategies, customer segmentation, and image and pattern recognition. It’s also used to reduce the number of features in a model through the process of dimensionality reduction. Principal component analysis (PCA) and singular value decomposition (SVD) are two common approaches for this. Other algorithms used in unsupervised learning include neural networks, k-means clustering, and probabilistic clustering methods.\n",
      "\n",
      "Semi-supervised learning \n",
      "Semi-supervised learning offers a happy medium between supervised and unsupervised learning. During training, it uses a smaller labeled data set to guide classification and feature extraction from a larger, unlabeled data set. Semi-supervised learning can solve the problem of not having enough labeled data for a supervised learning algorithm. It also helps if it’s too costly to label enough data.\n",
      "\n",
      "For a deep dive into the differences between these approaches, check out \"Supervised vs. Unsupervised Learning: What's the Difference?\"\n",
      "\n",
      "Reinforcement learning\n",
      "Reinforcement learning is a machine learning model that is similar to supervised learning, but the algorithm isn’t trained using sample data. This model learns as it goes by using trial and error. A sequence of successful outcomes will be reinforced to develop the best recommendation or policy for a given problem.\n",
      "\n",
      "The IBM Watson® system that won the Jeopardy! challenge in 2011 is a good example. The system used reinforcement learning to learn when to attempt an answer (or question, as it were), which square to select on the board, and how much to wager, especially on daily doubles.\n",
      "\n",
      "Common machine learning algorithms\n",
      "A number of machine learning algorithms are commonly used. These include:\n",
      "\n",
      "Neural networks\n",
      "Linear regression\n",
      "Logistic regression\n",
      "Clustering\n",
      "Decision trees\n",
      "Random forests\n",
      "Neural networks\n",
      "Neural networks simulate the way the human brain works, with a huge number of linked processing nodes. Neural networks are good at recognizing patterns and play an important role in applications including natural language translation, image recognition, speech recognition, and image creation.\n",
      "\n",
      "Linear regression\n",
      "This algorithm is used to predict numerical values, based on a linear relationship between different values. For example, the technique could be used to predict house prices based on historical data for the area.\n",
      "\n",
      "Logistic regression\n",
      "This supervised learning algorithm makes predictions for categorical response variables, such as “yes/no” answers to questions. It can be used for applications such as classifying spam and quality control on a production line.\n",
      "\n",
      "Clustering\n",
      "Using unsupervised learning, clustering algorithms can identify patterns in data so that it can be grouped. Computers can help data scientists by identifying differences between data items that humans have overlooked.\n",
      "\n",
      "Decision trees\n",
      "Decision trees can be used for both predicting numerical values (regression) and classifying data into categories. Decision trees use a branching sequence of linked decisions that can be represented with a tree diagram. One of the advantages of decision trees is that they are easy to validate and audit, unlike the black box of the neural network.\n",
      "\n",
      "Random forests\n",
      "In a random forest, the machine learning algorithm predicts a value or category by combining the results from a number of decision trees.\n",
      "You are an expert MCQ maker. Given the above text, it is your job to create a quiz  of 5 multiple choice questions for biology students in simple tone. \n",
      "Make sure the questions are not repeated and check all the questions to be conforming the text as well.\n",
      "Make sure to format your response like  RESPONSE_JSON below  and use it as a guide. Ensure to make 5 MCQs\n",
      "### RESPONSE_JSON\n",
      "{\"1\": {\"mcq\": \"multiple choice question\", \"options\": {\"a\": \"choice here\", \"b\": \"choice here\", \"c\": \"choice here\", \"d\": \"choice here\"}, \"correct\": \"correct answer\"}, \"2\": {\"mcq\": \"multiple choice question\", \"options\": {\"a\": \"choice here\", \"b\": \"choice here\", \"c\": \"choice here\", \"d\": \"choice here\"}, \"correct\": \"correct answer\"}, \"3\": {\"mcq\": \"multiple choice question\", \"options\": {\"a\": \"choice here\", \"b\": \"choice here\", \"c\": \"choice here\", \"d\": \"choice here\"}, \"correct\": \"correct answer\"}}\n",
      "\n",
      "\u001b[0m\n",
      "\n",
      "\u001b[1m> Finished chain.\u001b[0m\n",
      "\n",
      "\n",
      "\u001b[1m> Entering new LLMChain chain...\u001b[0m\n",
      "Prompt after formatting:\n",
      "\u001b[32;1m\u001b[1;3m\n",
      "Text:Machine learning (ML) is a branch of artificial intelligence (AI) focused on enabling computers and machines to imitate the way that humans learn, to perform tasks autonomously, and to improve their performance and accuracy through experience and exposure to more data.\n",
      "\n",
      "UC Berkeley breaks out the learning system of a machine learning algorithm into three main parts.\n",
      "\n",
      "A Decision Process: In general, machine learning algorithms are used to make a prediction or classification. Based on some input data, which can be labeled or unlabeled, your algorithm will produce an estimate about a pattern in the data.\n",
      "\n",
      "An Error Function: An error function evaluates the prediction of the model. If there are known examples, an error function can make a comparison to assess the accuracy of the model.\n",
      "\n",
      "A Model Optimization Process: If the model can fit better to the data points in the training set, then weights are adjusted to reduce the discrepancy between the known example and the model estimate. The algorithm will repeat this iterative “evaluate and optimize” process, updating weights autonomously until a threshold of accuracy has been met.\n",
      "Industry newsletter\n",
      "\n",
      "The latest AI trends, brought to you by experts\n",
      "Get curated insights on the most important—and intriguing—AI news. Subscribe to our weekly Think newsletter. See the IBM Privacy Statement.\n",
      "\n",
      "Machine learning versus deep learning versus neural networks\n",
      "Since deep learning and machine learning tend to be used interchangeably, it’s worth noting the nuances between the two. Machine learning, deep learning, and neural networks are all sub-fields of artificial intelligence. However, neural networks is actually a sub-field of machine learning, and deep learning is a sub-field of neural networks.\n",
      "\n",
      "The way in which deep learning and machine learning differ is in how each algorithm learns. \"Deep\" machine learning can use labeled datasets, also known as supervised learning, to inform its algorithm, but it doesn’t necessarily require a labeled dataset. The deep learning process can ingest unstructured data in its raw form (e.g., text or images), and it can automatically determine the set of features which distinguish different categories of data from one another. This eliminates some of the human intervention required and enables the use of large amounts of data. You can think of deep learning as \"scalable machine learning\" as Lex Fridman notes in this MIT lecture1.\n",
      "\n",
      "Classical, or \"non-deep,\" machine learning is more dependent on human intervention to learn. Human experts determine the set of features to understand the differences between data inputs, usually requiring more structured data to learn.\n",
      "\n",
      "Neural networks, or artificial neural networks (ANNs), are comprised of node layers, containing an input layer, one or more hidden layers, and an output layer. Each node, or artificial neuron, connects to another and has an associated weight and threshold. If the output of any individual node is above the specified threshold value, that node is activated, sending data to the next layer of the network. Otherwise, no data is passed along to the next layer of the network by that node. The “deep” in deep learning is just referring to the number of layers in a neural network. A neural network that consists of more than three layers, which would be inclusive of the input and the output can be considered a deep learning algorithm or a deep neural network. A neural network that only has three layers is just a basic neural network.\n",
      "\n",
      "Deep learning and neural networks are credited with accelerating progress in areas such as computer vision, natural language processing (NLP), and speech recognition.\n",
      "\n",
      "See the blog post “AI vs. Machine Learning vs. Deep Learning vs. Neural Networks: What’s the Difference?” for a closer look at how the different concepts relate.\n",
      "\n",
      "Mixture of Experts | 20 June, episode 60\n",
      "\n",
      "Episode 60: Impact of AI on jobs, Scale AI fallout and chatbot conspiracies\n",
      "Decoding AI: Weekly News Roundup\n",
      "Join our world-class panel of engineers, researchers, product leaders and more as they cut through the AI noise to bring you the latest in AI news and insights.\n",
      "\n",
      "Watch the latest podcast episodes \n",
      "Machine learning methods\n",
      "Machine learning models fall into three primary categories.\n",
      "\n",
      "Supervised learning\n",
      "Supervised learning, also known as supervised machine learning, is defined by its use of labeled datasets to train algorithms to classify data or predict outcomes accurately. As input data is fed into the model, the model adjusts its weights until it has been fitted appropriately. This occurs as part of the cross validation process to ensure that the model avoids overfitting or underfitting. Supervised learning helps organizations solve a variety of real-world problems at scale, such as classifying spam in a separate folder from your inbox. Some methods used in supervised learning include neural networks, Naïve Bayes, linear regression, logistic regression, random forest, and support vector machine (SVM).\n",
      "\n",
      "Unsupervised learning\n",
      "Unsupervised learning, also known as unsupervised machine learning, uses machine learning algorithms to analyze and cluster unlabeled datasets (subsets called clusters). These algorithms discover hidden patterns or data groupings without the need for human intervention.\n",
      "\n",
      "Unsupervised learning’s ability to discover similarities and differences in information make it ideal for exploratory data analysis, cross-selling strategies, customer segmentation, and image and pattern recognition. It’s also used to reduce the number of features in a model through the process of dimensionality reduction. Principal component analysis (PCA) and singular value decomposition (SVD) are two common approaches for this. Other algorithms used in unsupervised learning include neural networks, k-means clustering, and probabilistic clustering methods.\n",
      "\n",
      "Semi-supervised learning \n",
      "Semi-supervised learning offers a happy medium between supervised and unsupervised learning. During training, it uses a smaller labeled data set to guide classification and feature extraction from a larger, unlabeled data set. Semi-supervised learning can solve the problem of not having enough labeled data for a supervised learning algorithm. It also helps if it’s too costly to label enough data.\n",
      "\n",
      "For a deep dive into the differences between these approaches, check out \"Supervised vs. Unsupervised Learning: What's the Difference?\"\n",
      "\n",
      "Reinforcement learning\n",
      "Reinforcement learning is a machine learning model that is similar to supervised learning, but the algorithm isn’t trained using sample data. This model learns as it goes by using trial and error. A sequence of successful outcomes will be reinforced to develop the best recommendation or policy for a given problem.\n",
      "\n",
      "The IBM Watson® system that won the Jeopardy! challenge in 2011 is a good example. The system used reinforcement learning to learn when to attempt an answer (or question, as it were), which square to select on the board, and how much to wager, especially on daily doubles.\n",
      "\n",
      "Common machine learning algorithms\n",
      "A number of machine learning algorithms are commonly used. These include:\n",
      "\n",
      "Neural networks\n",
      "Linear regression\n",
      "Logistic regression\n",
      "Clustering\n",
      "Decision trees\n",
      "Random forests\n",
      "Neural networks\n",
      "Neural networks simulate the way the human brain works, with a huge number of linked processing nodes. Neural networks are good at recognizing patterns and play an important role in applications including natural language translation, image recognition, speech recognition, and image creation.\n",
      "\n",
      "Linear regression\n",
      "This algorithm is used to predict numerical values, based on a linear relationship between different values. For example, the technique could be used to predict house prices based on historical data for the area.\n",
      "\n",
      "Logistic regression\n",
      "This supervised learning algorithm makes predictions for categorical response variables, such as “yes/no” answers to questions. It can be used for applications such as classifying spam and quality control on a production line.\n",
      "\n",
      "Clustering\n",
      "Using unsupervised learning, clustering algorithms can identify patterns in data so that it can be grouped. Computers can help data scientists by identifying differences between data items that humans have overlooked.\n",
      "\n",
      "Decision trees\n",
      "Decision trees can be used for both predicting numerical values (regression) and classifying data into categories. Decision trees use a branching sequence of linked decisions that can be represented with a tree diagram. One of the advantages of decision trees is that they are easy to validate and audit, unlike the black box of the neural network.\n",
      "\n",
      "Random forests\n",
      "In a random forest, the machine learning algorithm predicts a value or category by combining the results from a number of decision trees.\n",
      "You are an expert MCQ maker. Given the above text, it is your job to create a quiz  of 5 multiple choice questions for biology students in simple tone. \n",
      "Make sure the questions are not repeated and check all the questions to be conforming the text as well.\n",
      "Make sure to format your response like  RESPONSE_JSON below  and use it as a guide. Ensure to make 5 MCQs\n",
      "### RESPONSE_JSON\n",
      "{\"1\": {\"mcq\": \"multiple choice question\", \"options\": {\"a\": \"choice here\", \"b\": \"choice here\", \"c\": \"choice here\", \"d\": \"choice here\"}, \"correct\": \"correct answer\"}, \"2\": {\"mcq\": \"multiple choice question\", \"options\": {\"a\": \"choice here\", \"b\": \"choice here\", \"c\": \"choice here\", \"d\": \"choice here\"}, \"correct\": \"correct answer\"}, \"3\": {\"mcq\": \"multiple choice question\", \"options\": {\"a\": \"choice here\", \"b\": \"choice here\", \"c\": \"choice here\", \"d\": \"choice here\"}, \"correct\": \"correct answer\"}}\n",
      "\n",
      "\u001b[0m\n",
      "\n",
      "\u001b[1m> Finished chain.\u001b[0m\n",
      "\n",
      "\u001b[1m> Finished chain.\u001b[0m\n"
     ]
    }
   ],
   "source": [
    "response = generate_evaluate_chain(\n",
    "    {\n",
    "        \"text\": TEXT,\n",
    "        \"number\": NUMBER,\n",
    "        \"subject\": SUBJECT,\n",
    "        \"tone\": TONE,\n",
    "        \"response_json\": json.dumps(RESPONSE_JSON)\n",
    "    }\n",
    ")"
   ]
  },
  {
   "cell_type": "code",
   "execution_count": 24,
   "id": "882da038",
   "metadata": {},
   "outputs": [
    {
     "name": "stdout",
     "output_type": "stream",
     "text": [
      "Quiz Generated:\n",
      "### RESPONSE_JSON\n",
      "{\"1\": {\"mcq\": \"What is machine learning?\", \"options\": {\"a\": \"A type of artificial intelligence\", \"b\": \"A type of biology\", \"c\": \"A type of physics\", \"d\": \"A type of chemistry\"}, \"correct\": \"a\"}, \"2\": {\"mcq\": \"What is the main difference between machine learning and deep learning?\", \"options\": {\"a\": \"Machine learning uses labeled datasets, while deep learning uses unstructured data\", \"b\": \"Machine learning uses unstructured data, while deep learning uses labeled datasets\", \"c\": \"Machine learning is faster than deep learning\", \"d\": \"Machine learning is slower than deep learning\"}, \"correct\": \"a\"}, \"3\": {\"mcq\": \"What is a neural network?\", \"options\": {\"a\": \"A type of machine learning algorithm\", \"b\": \"A type of deep learning algorithm\", \"c\": \"A type of neural network is a sub-field of machine learning\", \"d\": \"A neural network is a sub-field of neural networks\"}, \"correct\": \"c\"}, \"4\": {\"mcq\": \"What is the main goal of supervised learning?\", \"options\": {\"a\": \"To analyze and cluster unlabeled datasets\", \"b\": \"To predict numerical values\", \"c\": \"To classify data into categories\", \"d\": \"To use labeled datasets to train algorithms\"}, \"correct\": \"d\"}, \"5\": {\"mcq\": \"What is reinforcement learning?\", \"options\": {\"a\": \"A machine learning model that learns from sample data\", \"b\": \"A machine learning model that learns as it goes by using trial and error\", \"c\": \"A type of unsupervised learning\", \"d\": \"A type of supervised learning\"}, \"correct\": \"b\"}} \n",
      "\n",
      "### RESPONSE_JSON\n",
      "{\"1\": {\"mcq\": \"What is machine learning?\", \"options\": {\"a\": \"A type of artificial intelligence\", \"b\": \"A type of biology\", \"c\": \"A type of physics\", \"d\": \"A type of chemistry\"}, \"correct\": \"a\"}, \"2\": {\"mcq\": \"What is the main difference between machine learning and deep learning?\", \"options\": {\"a\": \"Machine learning uses labeled datasets, while deep learning uses unstructured data\", \"b\": \"Machine learning uses unstructured data, while deep learning uses labeled datasets\", \"c\": \"Machine learning is faster than deep learning\", \"d\n",
      "\n",
      "==================================================\n",
      "\n",
      "Review:\n",
      "### RESPONSE_JSON\n",
      "{\"1\": {\"mcq\": \"What is machine learning?\", \"options\": {\"a\": \"A type of artificial intelligence\", \"b\": \"A type of biology\", \"c\": \"A type of physics\", \"d\": \"A type of chemistry\"}, \"correct\": \"a\"}, \"2\": {\"mcq\": \"What is the main difference between machine learning and deep learning?\", \"options\": {\"a\": \"Machine learning uses labeled datasets, while deep learning uses unstructured data\", \"b\": \"Machine learning uses unstructured data, while deep learning uses labeled datasets\", \"c\": \"Machine learning is faster than deep learning\", \"d\": \"Machine learning is slower than deep learning\"}, \"correct\": \"a\"}, \"3\": {\"mcq\": \"What is a neural network?\", \"options\": {\"a\": \"A type of machine learning algorithm\", \"b\": \"A type of deep learning algorithm\", \"c\": \"A type of neural network is a sub-field of machine learning\", \"d\": \"A neural network is a sub-field of neural networks\"}, \"correct\": \"c\"}, \"4\": {\"mcq\": \"What is the main goal of supervised learning?\", \"options\": {\"a\": \"To analyze and cluster unlabeled datasets\", \"b\": \"To predict numerical values\", \"c\": \"To classify data into categories\", \"d\": \"To use labeled datasets to train algorithms\"}, \"correct\": \"d\"}, \"5\": {\"mcq\": \"What is reinforcement learning?\", \"options\": {\"a\": \"A machine learning model that learns from sample data\", \"b\": \"A machine learning model that learns as it goes by using trial and error\", \"c\": \"A type of unsupervised learning\", \"d\": \"A type of supervised learning\"}, \"correct\": \"b\"}} \n",
      "\n",
      "### RESPONSE_JSON\n",
      "{\"1\": {\"mcq\": \"What is machine learning?\", \"options\": {\"a\": \"A type of artificial intelligence\", \"b\": \"A type of biology\", \"c\": \"A type of physics\", \"d\": \"A type of chemistry\"}, \"correct\": \"a\"}, \"2\": {\"mcq\": \"What is the main difference between machine learning and deep learning?\", \"options\": {\"a\": \"Machine learning uses labeled datasets, while deep learning uses unstructured data\", \"b\": \"Machine learning uses unstructured data, while deep learning uses labeled datasets\", \"c\": \"Machine learning is faster than deep learning\", \"d\n"
     ]
    }
   ],
   "source": [
    "print(\"Quiz Generated:\")\n",
    "print(response['quiz'])\n",
    "\n",
    "print(\"\\n\" + \"=\" * 50 + \"\\n\")\n",
    "\n",
    "print(\"Review:\")\n",
    "print(response['review'])"
   ]
  },
  {
   "cell_type": "code",
   "execution_count": 25,
   "id": "5ca5b13d",
   "metadata": {},
   "outputs": [
    {
     "data": {
      "text/plain": [
       "{'text': 'Machine learning (ML) is a branch of artificial intelligence (AI) focused on enabling computers and machines to imitate the way that humans learn, to perform tasks autonomously, and to improve their performance and accuracy through experience and exposure to more data.\\n\\nUC Berkeley breaks out the learning system of a machine learning algorithm into three main parts.\\n\\nA Decision Process: In general, machine learning algorithms are used to make a prediction or classification. Based on some input data, which can be labeled or unlabeled, your algorithm will produce an estimate about a pattern in the data.\\n\\nAn Error Function: An error function evaluates the prediction of the model. If there are known examples, an error function can make a comparison to assess the accuracy of the model.\\n\\nA Model Optimization Process: If the model can fit better to the data points in the training set, then weights are adjusted to reduce the discrepancy between the known example and the model estimate. The algorithm will repeat this iterative “evaluate and optimize” process, updating weights autonomously until a threshold of accuracy has been met.\\nIndustry newsletter\\n\\nThe latest AI trends, brought to you by experts\\nGet curated insights on the most important—and intriguing—AI news. Subscribe to our weekly Think newsletter. See the IBM Privacy Statement.\\n\\nMachine learning versus deep learning versus neural networks\\nSince deep learning and machine learning tend to be used interchangeably, it’s worth noting the nuances between the two. Machine learning, deep learning, and neural networks are all sub-fields of artificial intelligence. However, neural networks is actually a sub-field of machine learning, and deep learning is a sub-field of neural networks.\\n\\nThe way in which deep learning and machine learning differ is in how each algorithm learns. \"Deep\" machine learning can use labeled datasets, also known as supervised learning, to inform its algorithm, but it doesn’t necessarily require a labeled dataset. The deep learning process can ingest unstructured data in its raw form (e.g., text or images), and it can automatically determine the set of features which distinguish different categories of data from one another. This eliminates some of the human intervention required and enables the use of large amounts of data. You can think of deep learning as \"scalable machine learning\" as Lex Fridman notes in this MIT lecture1.\\n\\nClassical, or \"non-deep,\" machine learning is more dependent on human intervention to learn. Human experts determine the set of features to understand the differences between data inputs, usually requiring more structured data to learn.\\n\\nNeural networks, or artificial neural networks (ANNs), are comprised of node layers, containing an input layer, one or more hidden layers, and an output layer. Each node, or artificial neuron, connects to another and has an associated weight and threshold. If the output of any individual node is above the specified threshold value, that node is activated, sending data to the next layer of the network. Otherwise, no data is passed along to the next layer of the network by that node. The “deep” in deep learning is just referring to the number of layers in a neural network. A neural network that consists of more than three layers, which would be inclusive of the input and the output can be considered a deep learning algorithm or a deep neural network. A neural network that only has three layers is just a basic neural network.\\n\\nDeep learning and neural networks are credited with accelerating progress in areas such as computer vision, natural language processing (NLP), and speech recognition.\\n\\nSee the blog post “AI vs. Machine Learning vs. Deep Learning vs. Neural Networks: What’s the Difference?” for a closer look at how the different concepts relate.\\n\\nMixture of Experts | 20 June, episode 60\\n\\nEpisode 60: Impact of AI on jobs, Scale AI fallout and chatbot conspiracies\\nDecoding AI: Weekly News Roundup\\nJoin our world-class panel of engineers, researchers, product leaders and more as they cut through the AI noise to bring you the latest in AI news and insights.\\n\\nWatch the latest podcast episodes \\nMachine learning methods\\nMachine learning models fall into three primary categories.\\n\\nSupervised learning\\nSupervised learning, also known as supervised machine learning, is defined by its use of labeled datasets to train algorithms to classify data or predict outcomes accurately. As input data is fed into the model, the model adjusts its weights until it has been fitted appropriately. This occurs as part of the cross validation process to ensure that the model avoids overfitting or underfitting. Supervised learning helps organizations solve a variety of real-world problems at scale, such as classifying spam in a separate folder from your inbox. Some methods used in supervised learning include neural networks, Naïve Bayes, linear regression, logistic regression, random forest, and support vector machine (SVM).\\n\\nUnsupervised learning\\nUnsupervised learning, also known as unsupervised machine learning, uses machine learning algorithms to analyze and cluster unlabeled datasets (subsets called clusters). These algorithms discover hidden patterns or data groupings without the need for human intervention.\\n\\nUnsupervised learning’s ability to discover similarities and differences in information make it ideal for exploratory data analysis, cross-selling strategies, customer segmentation, and image and pattern recognition. It’s also used to reduce the number of features in a model through the process of dimensionality reduction. Principal component analysis (PCA) and singular value decomposition (SVD) are two common approaches for this. Other algorithms used in unsupervised learning include neural networks, k-means clustering, and probabilistic clustering methods.\\n\\nSemi-supervised learning \\nSemi-supervised learning offers a happy medium between supervised and unsupervised learning. During training, it uses a smaller labeled data set to guide classification and feature extraction from a larger, unlabeled data set. Semi-supervised learning can solve the problem of not having enough labeled data for a supervised learning algorithm. It also helps if it’s too costly to label enough data.\\n\\nFor a deep dive into the differences between these approaches, check out \"Supervised vs. Unsupervised Learning: What\\'s the Difference?\"\\n\\nReinforcement learning\\nReinforcement learning is a machine learning model that is similar to supervised learning, but the algorithm isn’t trained using sample data. This model learns as it goes by using trial and error. A sequence of successful outcomes will be reinforced to develop the best recommendation or policy for a given problem.\\n\\nThe IBM Watson® system that won the Jeopardy! challenge in 2011 is a good example. The system used reinforcement learning to learn when to attempt an answer (or question, as it were), which square to select on the board, and how much to wager, especially on daily doubles.\\n\\nCommon machine learning algorithms\\nA number of machine learning algorithms are commonly used. These include:\\n\\nNeural networks\\nLinear regression\\nLogistic regression\\nClustering\\nDecision trees\\nRandom forests\\nNeural networks\\nNeural networks simulate the way the human brain works, with a huge number of linked processing nodes. Neural networks are good at recognizing patterns and play an important role in applications including natural language translation, image recognition, speech recognition, and image creation.\\n\\nLinear regression\\nThis algorithm is used to predict numerical values, based on a linear relationship between different values. For example, the technique could be used to predict house prices based on historical data for the area.\\n\\nLogistic regression\\nThis supervised learning algorithm makes predictions for categorical response variables, such as “yes/no” answers to questions. It can be used for applications such as classifying spam and quality control on a production line.\\n\\nClustering\\nUsing unsupervised learning, clustering algorithms can identify patterns in data so that it can be grouped. Computers can help data scientists by identifying differences between data items that humans have overlooked.\\n\\nDecision trees\\nDecision trees can be used for both predicting numerical values (regression) and classifying data into categories. Decision trees use a branching sequence of linked decisions that can be represented with a tree diagram. One of the advantages of decision trees is that they are easy to validate and audit, unlike the black box of the neural network.\\n\\nRandom forests\\nIn a random forest, the machine learning algorithm predicts a value or category by combining the results from a number of decision trees.',\n",
       " 'number': 5,\n",
       " 'subject': 'biology',\n",
       " 'tone': 'simple',\n",
       " 'response_json': '{\"1\": {\"mcq\": \"multiple choice question\", \"options\": {\"a\": \"choice here\", \"b\": \"choice here\", \"c\": \"choice here\", \"d\": \"choice here\"}, \"correct\": \"correct answer\"}, \"2\": {\"mcq\": \"multiple choice question\", \"options\": {\"a\": \"choice here\", \"b\": \"choice here\", \"c\": \"choice here\", \"d\": \"choice here\"}, \"correct\": \"correct answer\"}, \"3\": {\"mcq\": \"multiple choice question\", \"options\": {\"a\": \"choice here\", \"b\": \"choice here\", \"c\": \"choice here\", \"d\": \"choice here\"}, \"correct\": \"correct answer\"}}',\n",
       " 'quiz': '### RESPONSE_JSON\\n{\"1\": {\"mcq\": \"What is machine learning?\", \"options\": {\"a\": \"A type of artificial intelligence\", \"b\": \"A type of biology\", \"c\": \"A type of physics\", \"d\": \"A type of chemistry\"}, \"correct\": \"a\"}, \"2\": {\"mcq\": \"What is the main difference between machine learning and deep learning?\", \"options\": {\"a\": \"Machine learning uses labeled datasets, while deep learning uses unstructured data\", \"b\": \"Machine learning uses unstructured data, while deep learning uses labeled datasets\", \"c\": \"Machine learning is faster than deep learning\", \"d\": \"Machine learning is slower than deep learning\"}, \"correct\": \"a\"}, \"3\": {\"mcq\": \"What is a neural network?\", \"options\": {\"a\": \"A type of machine learning algorithm\", \"b\": \"A type of deep learning algorithm\", \"c\": \"A type of neural network is a sub-field of machine learning\", \"d\": \"A neural network is a sub-field of neural networks\"}, \"correct\": \"c\"}, \"4\": {\"mcq\": \"What is the main goal of supervised learning?\", \"options\": {\"a\": \"To analyze and cluster unlabeled datasets\", \"b\": \"To predict numerical values\", \"c\": \"To classify data into categories\", \"d\": \"To use labeled datasets to train algorithms\"}, \"correct\": \"d\"}, \"5\": {\"mcq\": \"What is reinforcement learning?\", \"options\": {\"a\": \"A machine learning model that learns from sample data\", \"b\": \"A machine learning model that learns as it goes by using trial and error\", \"c\": \"A type of unsupervised learning\", \"d\": \"A type of supervised learning\"}, \"correct\": \"b\"}} \\n\\n### RESPONSE_JSON\\n{\"1\": {\"mcq\": \"What is machine learning?\", \"options\": {\"a\": \"A type of artificial intelligence\", \"b\": \"A type of biology\", \"c\": \"A type of physics\", \"d\": \"A type of chemistry\"}, \"correct\": \"a\"}, \"2\": {\"mcq\": \"What is the main difference between machine learning and deep learning?\", \"options\": {\"a\": \"Machine learning uses labeled datasets, while deep learning uses unstructured data\", \"b\": \"Machine learning uses unstructured data, while deep learning uses labeled datasets\", \"c\": \"Machine learning is faster than deep learning\", \"d',\n",
       " 'review': '### RESPONSE_JSON\\n{\"1\": {\"mcq\": \"What is machine learning?\", \"options\": {\"a\": \"A type of artificial intelligence\", \"b\": \"A type of biology\", \"c\": \"A type of physics\", \"d\": \"A type of chemistry\"}, \"correct\": \"a\"}, \"2\": {\"mcq\": \"What is the main difference between machine learning and deep learning?\", \"options\": {\"a\": \"Machine learning uses labeled datasets, while deep learning uses unstructured data\", \"b\": \"Machine learning uses unstructured data, while deep learning uses labeled datasets\", \"c\": \"Machine learning is faster than deep learning\", \"d\": \"Machine learning is slower than deep learning\"}, \"correct\": \"a\"}, \"3\": {\"mcq\": \"What is a neural network?\", \"options\": {\"a\": \"A type of machine learning algorithm\", \"b\": \"A type of deep learning algorithm\", \"c\": \"A type of neural network is a sub-field of machine learning\", \"d\": \"A neural network is a sub-field of neural networks\"}, \"correct\": \"c\"}, \"4\": {\"mcq\": \"What is the main goal of supervised learning?\", \"options\": {\"a\": \"To analyze and cluster unlabeled datasets\", \"b\": \"To predict numerical values\", \"c\": \"To classify data into categories\", \"d\": \"To use labeled datasets to train algorithms\"}, \"correct\": \"d\"}, \"5\": {\"mcq\": \"What is reinforcement learning?\", \"options\": {\"a\": \"A machine learning model that learns from sample data\", \"b\": \"A machine learning model that learns as it goes by using trial and error\", \"c\": \"A type of unsupervised learning\", \"d\": \"A type of supervised learning\"}, \"correct\": \"b\"}} \\n\\n### RESPONSE_JSON\\n{\"1\": {\"mcq\": \"What is machine learning?\", \"options\": {\"a\": \"A type of artificial intelligence\", \"b\": \"A type of biology\", \"c\": \"A type of physics\", \"d\": \"A type of chemistry\"}, \"correct\": \"a\"}, \"2\": {\"mcq\": \"What is the main difference between machine learning and deep learning?\", \"options\": {\"a\": \"Machine learning uses labeled datasets, while deep learning uses unstructured data\", \"b\": \"Machine learning uses unstructured data, while deep learning uses labeled datasets\", \"c\": \"Machine learning is faster than deep learning\", \"d'}"
      ]
     },
     "execution_count": 25,
     "metadata": {},
     "output_type": "execute_result"
    }
   ],
   "source": [
    "response"
   ]
  },
  {
   "cell_type": "code",
   "execution_count": 26,
   "id": "332574f4",
   "metadata": {},
   "outputs": [
    {
     "name": "stdout",
     "output_type": "stream",
     "text": [
      "=== Response Metrics ===\n",
      "Execution Time: Not available (run cell 21 first)\n",
      "Quiz Response Length: 2030 characters\n",
      "Review Response Length: 2030 characters\n",
      "Total Response Length: 4060 characters\n",
      "\n",
      "Note: Hugging Face Hub API doesn't provide detailed token usage like OpenAI\n",
      "Consider using local Hugging Face models with transformers library for token counting\n"
     ]
    }
   ],
   "source": [
    "# Basic metrics for Hugging Face response (since detailed token tracking isn't available)\n",
    "quiz_length = len(response['quiz']) if response.get('quiz') else 0\n",
    "review_length = len(response['review']) if response.get('review') else 0\n",
    "total_response_length = quiz_length + review_length\n",
    "\n",
    "print(\"=== Response Metrics ===\")\n",
    "print(f\"Execution Time: {execution_time:.2f} seconds\" if 'execution_time' in globals() else \"Execution Time: Not available (run cell 21 first)\")\n",
    "print(f\"Quiz Response Length: {quiz_length} characters\")\n",
    "print(f\"Review Response Length: {review_length} characters\") \n",
    "print(f\"Total Response Length: {total_response_length} characters\")\n",
    "print(\"\\nNote: Hugging Face Hub API doesn't provide detailed token usage like OpenAI\")\n",
    "print(\"Consider using local Hugging Face models with transformers library for token counting\")\n"
   ]
  },
  {
   "cell_type": "code",
   "execution_count": 27,
   "id": "2eb49114",
   "metadata": {},
   "outputs": [],
   "source": [
    "quiz = response.get('quiz')"
   ]
  },
  {
   "cell_type": "code",
   "execution_count": 28,
   "id": "47696fe0",
   "metadata": {},
   "outputs": [],
   "source": [
    "# quiz=json.loads(quiz)"
   ]
  },
  {
   "cell_type": "code",
   "execution_count": 29,
   "id": "3c95411d",
   "metadata": {},
   "outputs": [
    {
     "name": "stdout",
     "output_type": "stream",
     "text": [
      "Successfully parsed quiz JSON:\n",
      "{\n",
      "  \"1\": {\n",
      "    \"mcq\": \"What is machine learning?\",\n",
      "    \"options\": {\n",
      "      \"a\": \"A type of artificial intelligence\",\n",
      "      \"b\": \"A type of biology\",\n",
      "      \"c\": \"A type of physics\",\n",
      "      \"d\": \"A type of chemistry\"\n",
      "    },\n",
      "    \"correct\": \"a\"\n",
      "  },\n",
      "  \"2\": {\n",
      "    \"mcq\": \"What is the main difference between machine learning and deep learning?\",\n",
      "    \"options\": {\n",
      "      \"a\": \"Machine learning uses labeled datasets, while deep learning uses unstructured data\",\n",
      "      \"b\": \"Machine learning uses unstructured data, while deep learning uses labeled datasets\",\n",
      "      \"c\": \"Machine learning is faster than deep learning\",\n",
      "      \"d\": \"Machine learning is slower than deep learning\"\n",
      "    },\n",
      "    \"correct\": \"a\"\n",
      "  },\n",
      "  \"3\": {\n",
      "    \"mcq\": \"What is a neural network?\",\n",
      "    \"options\": {\n",
      "      \"a\": \"A type of machine learning algorithm\",\n",
      "      \"b\": \"A type of deep learning algorithm\",\n",
      "      \"c\": \"A type of neural network is a sub-field of machine learning\",\n",
      "      \"d\": \"A neural network is a sub-field of neural networks\"\n",
      "    },\n",
      "    \"correct\": \"c\"\n",
      "  },\n",
      "  \"4\": {\n",
      "    \"mcq\": \"What is the main goal of supervised learning?\",\n",
      "    \"options\": {\n",
      "      \"a\": \"To analyze and cluster unlabeled datasets\",\n",
      "      \"b\": \"To predict numerical values\",\n",
      "      \"c\": \"To classify data into categories\",\n",
      "      \"d\": \"To use labeled datasets to train algorithms\"\n",
      "    },\n",
      "    \"correct\": \"d\"\n",
      "  },\n",
      "  \"5\": {\n",
      "    \"mcq\": \"What is reinforcement learning?\",\n",
      "    \"options\": {\n",
      "      \"a\": \"A machine learning model that learns from sample data\",\n",
      "      \"b\": \"A machine learning model that learns as it goes by using trial and error\",\n",
      "      \"c\": \"A type of unsupervised learning\",\n",
      "      \"d\": \"A type of supervised learning\"\n",
      "    },\n",
      "    \"correct\": \"b\"\n",
      "  }\n",
      "}\n"
     ]
    }
   ],
   "source": [
    "import re\n",
    "\n",
    "# Extract JSON from the quiz response\n",
    "def extract_json_from_response(text):\n",
    "\t# Find the JSON portion between curly braces\n",
    "\tstart_idx = text.find('{')\n",
    "\tif start_idx == -1:\n",
    "\t\treturn None\n",
    "\t\n",
    "\t# Find the matching closing brace\n",
    "\tbrace_count = 0\n",
    "\tend_idx = start_idx\n",
    "\tfor i, char in enumerate(text[start_idx:], start_idx):\n",
    "\t\tif char == '{':\n",
    "\t\t\tbrace_count += 1\n",
    "\t\telif char == '}':\n",
    "\t\t\tbrace_count -= 1\n",
    "\t\t\tif brace_count == 0:\n",
    "\t\t\t\tend_idx = i\n",
    "\t\t\t\tbreak\n",
    "\t\n",
    "\tjson_text = text[start_idx:end_idx + 1]\n",
    "\treturn json_text\n",
    "\n",
    "# Extract and parse the JSON\n",
    "try:\n",
    "\tjson_text = extract_json_from_response(quiz)\n",
    "\tif json_text:\n",
    "\t\tquiz_dict = json.loads(json_text)\n",
    "\t\tprint(\"Successfully parsed quiz JSON:\")\n",
    "\t\tprint(json.dumps(quiz_dict, indent=2))\n",
    "\telse:\n",
    "\t\tprint(\"No valid JSON found in the quiz response\")\n",
    "\t\tprint(\"Raw quiz content:\")\n",
    "\t\tprint(quiz[:500] + \"...\" if len(quiz) > 500 else quiz)\n",
    "except json.JSONDecodeError as e:\n",
    "\tprint(f\"JSON decode error: {e}\")\n",
    "\tprint(\"Extracted text:\")\n",
    "\tprint(json_text if 'json_text' in locals() else \"No JSON text extracted\")\n"
   ]
  },
  {
   "cell_type": "code",
   "execution_count": 30,
   "id": "de109756",
   "metadata": {},
   "outputs": [],
   "source": [
    "quiz_table_data = []\n",
    "for key, value in quiz_dict.items():\n",
    "    mcq = value[\"mcq\"]\n",
    "    options = \" | \".join(\n",
    "        [\n",
    "            f\"{option}: {option_value}\"\n",
    "            for option, option_value in value[\"options\"].items()\n",
    "        ]\n",
    "    )\n",
    "    correct = value[\"correct\"]\n",
    "    quiz_table_data.append({\"MCQ\": mcq, \"Choices\": options, \"Correct\": correct})\n"
   ]
  },
  {
   "cell_type": "code",
   "execution_count": 31,
   "id": "d38bc366",
   "metadata": {},
   "outputs": [
    {
     "data": {
      "text/plain": [
       "[{'MCQ': 'What is machine learning?',\n",
       "  'Choices': 'a: A type of artificial intelligence | b: A type of biology | c: A type of physics | d: A type of chemistry',\n",
       "  'Correct': 'a'},\n",
       " {'MCQ': 'What is the main difference between machine learning and deep learning?',\n",
       "  'Choices': 'a: Machine learning uses labeled datasets, while deep learning uses unstructured data | b: Machine learning uses unstructured data, while deep learning uses labeled datasets | c: Machine learning is faster than deep learning | d: Machine learning is slower than deep learning',\n",
       "  'Correct': 'a'},\n",
       " {'MCQ': 'What is a neural network?',\n",
       "  'Choices': 'a: A type of machine learning algorithm | b: A type of deep learning algorithm | c: A type of neural network is a sub-field of machine learning | d: A neural network is a sub-field of neural networks',\n",
       "  'Correct': 'c'},\n",
       " {'MCQ': 'What is the main goal of supervised learning?',\n",
       "  'Choices': 'a: To analyze and cluster unlabeled datasets | b: To predict numerical values | c: To classify data into categories | d: To use labeled datasets to train algorithms',\n",
       "  'Correct': 'd'},\n",
       " {'MCQ': 'What is reinforcement learning?',\n",
       "  'Choices': 'a: A machine learning model that learns from sample data | b: A machine learning model that learns as it goes by using trial and error | c: A type of unsupervised learning | d: A type of supervised learning',\n",
       "  'Correct': 'b'}]"
      ]
     },
     "execution_count": 31,
     "metadata": {},
     "output_type": "execute_result"
    }
   ],
   "source": [
    "quiz_table_data"
   ]
  },
  {
   "cell_type": "code",
   "execution_count": 32,
   "id": "ded381c4",
   "metadata": {},
   "outputs": [],
   "source": [
    "quiz = pd.DataFrame(quiz_table_data)"
   ]
  },
  {
   "cell_type": "code",
   "execution_count": 33,
   "id": "70a4d9ea",
   "metadata": {},
   "outputs": [],
   "source": [
    "quiz.to_csv(\"ML_quiz.csv\", index=False)"
   ]
  },
  {
   "cell_type": "code",
   "execution_count": null,
   "id": "07d02657",
   "metadata": {},
   "outputs": [],
   "source": []
  }
 ],
 "metadata": {
  "kernelspec": {
   "display_name": "env",
   "language": "python",
   "name": "python3"
  },
  "language_info": {
   "codemirror_mode": {
    "name": "ipython",
    "version": 3
   },
   "file_extension": ".py",
   "mimetype": "text/x-python",
   "name": "python",
   "nbconvert_exporter": "python",
   "pygments_lexer": "ipython3",
   "version": "3.10.18"
  }
 },
 "nbformat": 4,
 "nbformat_minor": 5
}
